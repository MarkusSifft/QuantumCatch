{
 "cells": [
  {
   "cell_type": "markdown",
   "metadata": {
    "collapsed": true,
    "pycharm": {
     "name": "#%% md\n"
    }
   },
   "source": [
    "# Conversion of CSV files to HDF files\n",
    "\n",
    "Often detector software saves the measurement as csv files. Since this is very inefficient \n",
    "in case of data larger than about 1 GB and the QuantumPolyspectra package only deals with hdf files, we have\n",
    "included a function for the conversion between csv and hdf called **to_hdf**. As an example, we have measurement data as \n",
    "a csv file from a quantum point contact measurement in the folder *example_data*."
   ]
  },
  {
   "cell_type": "code",
   "execution_count": 1,
   "outputs": [],
   "source": [
    "import pandas as pd\n",
    "from QuantumPolyspectra import to_hdf"
   ],
   "metadata": {
    "collapsed": false,
    "pycharm": {
     "name": "#%% \n",
     "is_executing": false
    }
   }
  },
  {
   "cell_type": "markdown",
   "source": [
    "First we have to load the csv and extract the relevant column and the duration of the time steps."
   ],
   "metadata": {
    "collapsed": false,
    "pycharm": {
     "name": "#%% md\n"
    }
   }
  },
  {
   "cell_type": "code",
   "execution_count": 5,
   "outputs": [
    {
     "name": "stdout",
     "text": [
      "       t         n    n_noise\n",
      "0  0.000  0.500000 -11.214976\n",
      "1  0.004  0.405140  27.535622\n",
      "2  0.008  0.465271  22.427326\n",
      "3  0.012  0.505185  72.913011\n",
      "4  0.016  0.745585  47.660862\n"
     ],
     "output_type": "stream"
    }
   ],
   "source": [
    "csv_data = pd.read_csv('example_data/measurement.csv', delimiter=',', index_col=0)\n",
    "print(csv_data.head())\n"
   ],
   "metadata": {
    "collapsed": false,
    "pycharm": {
     "name": "#%%\n",
     "is_executing": false
    }
   }
  },
  {
   "cell_type": "markdown",
   "source": [
    "Let's our measurement is located in column **n** and the time step duration can be inferred from column **t**"
   ],
   "metadata": {
    "collapsed": false,
    "pycharm": {
     "name": "#%% md\n",
     "is_executing": false
    }
   }
  },
  {
   "cell_type": "code",
   "execution_count": 6,
   "outputs": [],
   "source": [
    "dt = csv_data.t[1] - csv_data.t[0]\n",
    "measurement = csv_data.n\n"
   ],
   "metadata": {
    "collapsed": false,
    "pycharm": {
     "name": "#%%\n",
     "is_executing": false
    }
   }
  },
  {
   "cell_type": "markdown",
   "source": [
    "This information is going to be saved as hdf file. We can choose any group and dataset name. The variable **dt** is \n",
    "saved as an attribute to the dataset."
   ],
   "metadata": {
    "collapsed": false,
    "pycharm": {
     "name": "#%% md\n"
    }
   }
  },
  {
   "cell_type": "code",
   "execution_count": 7,
   "outputs": [],
   "source": [
    "to_hdf(dt, measurement, 'example_data/measurement.h5', 'day1', 'measurement1')\n",
    "\n",
    "\n"
   ],
   "metadata": {
    "collapsed": false,
    "pycharm": {
     "name": "#%%\n",
     "is_executing": false
    }
   }
  },
  {
   "cell_type": "code",
   "execution_count": null,
   "outputs": [],
   "source": [
    "\n"
   ],
   "metadata": {
    "collapsed": false,
    "pycharm": {
     "name": "#%%\n"
    }
   }
  }
 ],
 "metadata": {
  "kernelspec": {
   "display_name": "Python 3",
   "language": "python",
   "name": "python3"
  },
  "language_info": {
   "codemirror_mode": {
    "name": "ipython",
    "version": 2
   },
   "file_extension": ".py",
   "mimetype": "text/x-python",
   "name": "python",
   "nbconvert_exporter": "python",
   "pygments_lexer": "ipython2",
   "version": "2.7.6"
  },
  "pycharm": {
   "stem_cell": {
    "cell_type": "raw",
    "source": [],
    "metadata": {
     "collapsed": false
    }
   }
  }
 },
 "nbformat": 4,
 "nbformat_minor": 0
}