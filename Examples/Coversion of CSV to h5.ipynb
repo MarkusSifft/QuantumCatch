{
 "cells": [
  {
   "cell_type": "markdown",
   "metadata": {
    "collapsed": true,
    "pycharm": {
     "name": "#%% md\n"
    }
   },
   "source": [
    "# Conversion of CSV data to HDF data\n",
    "\n",
    "Often detector software saves the measurement as csv files. Since this is very inefficient \n",
    "in case of data larger than 1 GB and the QuantumPolyspectra package only deals with hdf files, we have\n",
    "included a function for the conversion between csv and hdf called **to_hdf**. \n"
   ]
  }
 ],
 "metadata": {
  "kernelspec": {
   "display_name": "Python 3",
   "language": "python",
   "name": "python3"
  },
  "language_info": {
   "codemirror_mode": {
    "name": "ipython",
    "version": 2
   },
   "file_extension": ".py",
   "mimetype": "text/x-python",
   "name": "python",
   "nbconvert_exporter": "python",
   "pygments_lexer": "ipython2",
   "version": "2.7.6"
  },
  "pycharm": {
   "stem_cell": {
    "cell_type": "raw",
    "source": [],
    "metadata": {
     "collapsed": false
    }
   }
  }
 },
 "nbformat": 4,
 "nbformat_minor": 0
}