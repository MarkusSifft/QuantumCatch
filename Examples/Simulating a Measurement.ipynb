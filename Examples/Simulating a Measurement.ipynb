{
 "cells": [
  {
   "cell_type": "markdown",
   "source": [
    "# Simulating a Measurement\n",
    "\n",
    "Here we are demonstrating how to simulate a simple quantum point \n",
    "contact measurement of the charge state of a quantum dot. First we have to \n",
    "import the QuantumPolyspecrta package. We will also import QuTip and NumPy."
   ],
   "metadata": {
    "collapsed": false
   }
  },
  {
   "cell_type": "code",
   "execution_count": 4,
   "outputs": [],
   "source": [
    "import QuantumPolyspectra as qp\n",
    "import numpy as np\n",
    "from qutip import *"
   ],
   "metadata": {
    "collapsed": false,
    "pycharm": {
     "name": "#%%\n",
     "is_executing": false
    }
   }
  },
  {
   "cell_type": "markdown",
   "source": [
    "The analysis and generation module are imported automatically. \n",
    "Next, we are going to define the quantum dot system. The system has an Hamiltonian \n",
    "of $\\mathcal{H} = 0$. The tunneling of electrons into and from the quantum dot \n",
    "and the measurement are modelled via Lindbladian damping terms \n",
    "while the measurement gets an additional backaction as defined in the \n",
    "stochastic master equation:\n",
    "\n",
    "$$\\mathrm{d}\\rho = \\frac{i}{\\hbar}[\\rho, H]\\mathrm{d}t +  \\mathcal{D}[\\sqrt{\\gamma_{\\rm in}}a^\\dagger](\\rho) \\mathrm{d}t + \\mathcal{D}[\\sqrt{ \\gamma_{\\rm out}}a](\\rho) \\mathrm{d}t +  \\mathcal{D}[\\beta n](\\rho) \\mathrm{d}t +  \\mathcal{S}[ \\beta n](\\rho)\\mathrm{d}W$$\n",
    "\n",
    "Let's see how this system is implemented with the QuantumPolyspectra package. First we are going to\n",
    "define the operators:"
   ],
   "metadata": {
    "collapsed": false,
    "pycharm": {
     "name": "#%% md\n",
     "is_executing": false
    }
   }
  },
  {
   "cell_type": "code",
   "execution_count": 5,
   "outputs": [],
   "source": [
    "dot_levels = 2\n",
    "a = destroy(dot_levels)\n",
    "n = a.dag() * a\n",
    "rho_0 = ket2dm(basis(dot_levels, 0)) + ket2dm(basis(dot_levels, 1)) \n",
    "rho_0 /= np.trace(rho_0)\n",
    "H = 0 * n"
   ],
   "metadata": {
    "collapsed": false,
    "pycharm": {
     "name": "#%%\n",
     "is_executing": false
    }
   }
  },
  {
   "cell_type": "markdown",
   "source": [
    "Then we are going to define the inital density matrix of the quantum dot. Here we are starting in a superposition of \n",
    "full and empty:"
   ],
   "metadata": {
    "collapsed": false
   }
  },
  {
   "cell_type": "code",
   "execution_count": 6,
   "outputs": [],
   "source": [
    "rho_0 = ket2dm(basis(dot_levels, 0)) + ket2dm(basis(dot_levels, 1)) \n",
    "rho_0 /= np.trace(rho_0)\n",
    "\n"
   ],
   "metadata": {
    "collapsed": false,
    "pycharm": {
     "name": "#%%\n",
     "is_executing": false
    }
   }
  },
  {
   "cell_type": "markdown",
   "source": [
    "By defining the tunneling rate and measurement strength we are also setting the units of time. Here we are choossing\n",
    "ms so the rates will be given in kHz. "
   ],
   "metadata": {
    "collapsed": false,
    "pycharm": {
     "name": "#%% md\n"
    }
   }
  }
 ],
 "metadata": {
  "kernelspec": {
   "display_name": "Python 3",
   "language": "python",
   "name": "python3"
  },
  "language_info": {
   "codemirror_mode": {
    "name": "ipython",
    "version": 2
   },
   "file_extension": ".py",
   "mimetype": "text/x-python",
   "name": "python",
   "nbconvert_exporter": "python",
   "pygments_lexer": "ipython2",
   "version": "2.7.6"
  },
  "pycharm": {
   "stem_cell": {
    "cell_type": "raw",
    "source": [],
    "metadata": {
     "collapsed": false
    }
   }
  }
 },
 "nbformat": 4,
 "nbformat_minor": 0
}