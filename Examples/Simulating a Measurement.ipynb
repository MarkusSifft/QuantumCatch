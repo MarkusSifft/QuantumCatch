{
 "cells": [
  {
   "cell_type": "markdown",
   "source": [
    "# Simulating a Measurement\n",
    "\n",
    "Here we are demonstrating how to simulate a simple quantum point \n",
    "contact measurement of the charge state of a quantum dot. First we have to \n",
    "import the QuantumPolyspecrta package. We will also import QuTip and NumPy."
   ],
   "metadata": {
    "collapsed": false
   }
  },
  {
   "cell_type": "code",
   "execution_count": 4,
   "outputs": [],
   "source": [
    "import QuantumPolyspectra as qp\n",
    "import numpy as np\n",
    "from qutip import *"
   ],
   "metadata": {
    "collapsed": false,
    "pycharm": {
     "name": "#%%\n",
     "is_executing": false
    }
   }
  },
  {
   "cell_type": "markdown",
   "source": [
    "The analysis and generation module are imported automatically. \n",
    "Next, we are going to define the quantum dot system. The system has an Hamiltonian \n",
    "of $\\mathcal{H} = 0$. The tunneling of electrons into and from the quantum dot \n",
    "and the measurement are modelled via Lindbladian damping terms \n",
    "while the measurement gets an additional backaction as defined in the \n",
    "stochastic master equation:\n",
    "\n",
    "$$\\mathrm{d}\\rho = \\frac{i}{\\hbar}[\\rho, H]\\mathrm{d}t + \\gamma_{\\rm in} \\mathcal{D}[a^\\dagger](\\rho) \\mathrm{d}t + \\gamma_{\\rm out} \\mathcal{D}[a](\\rho) \\mathrm{d}t + \\beta^2 \\mathcal{D}[n](\\rho) \\mathrm{d}t + \\beta \\mathcal{S}[n](\\rho)\\mathrm{d}W$$\n",
    "\n",
    "Let's see how this system is implemented with the QuantumPolyspectra package."
   ],
   "metadata": {
    "collapsed": false,
    "pycharm": {
     "name": "#%% md\n",
     "is_executing": false
    }
   }
  },
  {
   "cell_type": "code",
   "execution_count": null,
   "outputs": [],
   "source": [
    "\n"
   ],
   "metadata": {
    "collapsed": false,
    "pycharm": {
     "name": "#%%\n"
    }
   }
  }
 ],
 "metadata": {
  "kernelspec": {
   "display_name": "Python 3",
   "language": "python",
   "name": "python3"
  },
  "language_info": {
   "codemirror_mode": {
    "name": "ipython",
    "version": 2
   },
   "file_extension": ".py",
   "mimetype": "text/x-python",
   "name": "python",
   "nbconvert_exporter": "python",
   "pygments_lexer": "ipython2",
   "version": "2.7.6"
  },
  "pycharm": {
   "stem_cell": {
    "cell_type": "raw",
    "source": [],
    "metadata": {
     "collapsed": false
    }
   }
  }
 },
 "nbformat": 4,
 "nbformat_minor": 0
}