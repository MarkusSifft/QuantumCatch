{
 "cells": [
  {
   "cell_type": "markdown",
   "source": [
    "# Quantum Polyspectra of Single Photon Probing of a Precessing Spin"
   ],
   "metadata": {
    "collapsed": false
   },
   "id": "8b2b5cd38c15c295"
  },
  {
   "cell_type": "markdown",
   "source": [
    "The process of implementing single photon measurements through the stochastic master equation is indeed intricate and requires a comprehensive understanding of the subject. For a thorough and detailed explanation, I recommend referring to [this paper](https://arxiv.org/abs/2109.05862). This document provides an in-depth exploration of the topic, making it an excellent resource for those interested in delving deeper into this complex area of study."
   ],
   "metadata": {
    "collapsed": false
   },
   "id": "c22883b44602eab"
  },
  {
   "cell_type": "code",
   "execution_count": 1,
   "id": "initial_id",
   "metadata": {
    "collapsed": true,
    "ExecuteTime": {
     "end_time": "2024-02-02T09:49:41.628585Z",
     "start_time": "2024-02-02T09:49:36.448684Z"
    }
   },
   "source": [
    "from quantumcatch.simulation import System, calc_super_A\n",
    "import numpy as np\n",
    "from qutip import *"
   ],
   "outputs": []
  },
  {
   "cell_type": "code",
   "execution_count": 2,
   "source": [
    "# ------ Tensor Definition -------\n",
    "\n",
    "# (Spin)  x   (WW)  x   (Detector)\n",
    "\n",
    "spin_levels = 2\n",
    "photon_levels = 3\n",
    "\n",
    "to_x_down = np.zeros((3,3)); to_x_down[0,2] = 1/2**0.5; to_x_down[1,2] = -1/2**0.5; to_x_down = Qobj(to_x_down)\n",
    "to_x_up = np.zeros((3,3)); to_x_up[0,2] = 1/2**0.5; to_x_up[1,2] = 1/2**0.5; to_x_up = Qobj(to_x_up)\n",
    "\n",
    "to_x_down_ww = tensor(qeye(spin_levels), to_x_down, qeye(photon_levels))\n",
    "n_ww = np.zeros((3,3)); n_ww[2,2] = 1; n_ww = Qobj(n_ww)\n",
    "\n",
    "n_ww = tensor(qeye(spin_levels), n_ww, qeye(photon_levels))\n",
    "\n",
    "transfer_op = tensor(qeye(spin_levels), to_x_down.dag(), qeye(photon_levels)) * tensor(qeye(spin_levels), qeye(photon_levels), to_x_down) \\\n",
    "            + tensor(qeye(spin_levels), to_x_up.dag(), qeye(photon_levels)) * tensor(qeye(spin_levels), qeye(photon_levels), to_x_up)\n",
    "\n",
    "sigma_y_empty = 1j*np.zeros((3,3)); sigma_y_empty[:2,:2] = sigmay()/2; sigma_y_empty = Qobj(sigma_y_empty)\n",
    "y_d = tensor(qeye(spin_levels), qeye(photon_levels), sigma_y_empty)\n",
    "\n",
    "sigma_x_empty = 1j*np.zeros((3,3)); sigma_x_empty[:2,:2] = sigmax()/2; sigma_x_empty = Qobj(sigma_x_empty)\n",
    "\n",
    "x_ww = tensor(qeye(spin_levels), sigma_x_empty, qeye(photon_levels))\n",
    "x_d = tensor(qeye(spin_levels), qeye(photon_levels), sigma_x_empty)\n",
    "\n",
    "sigma_z_empty = 1j*np.zeros((3,3)); sigma_z_empty[:2,:2] = sigmaz()/2; sigma_z_empty = Qobj(sigma_z_empty)\n",
    "\n",
    "z_ww = tensor(qeye(spin_levels), sigma_z_empty, qeye(photon_levels))\n",
    "z_d = tensor(qeye(spin_levels), qeye(photon_levels), sigma_z_empty)\n"
   ],
   "metadata": {
    "collapsed": false,
    "ExecuteTime": {
     "end_time": "2024-02-02T09:49:41.662794Z",
     "start_time": "2024-02-02T09:49:41.634089Z"
    }
   },
   "id": "b74b5e908684d074",
   "outputs": []
  },
  {
   "cell_type": "code",
   "execution_count": 3,
   "source": [
    "# ------ Operators and Hamiltonian -----\n",
    "hbar = 6.582e-4  # eV ms\n",
    "spin_levels = 2\n",
    "photon_levels = 3\n",
    "\n",
    "# ------- Spin ---------\n",
    "x_spin = tensor(sigmax()/2, qeye(photon_levels), qeye(photon_levels))\n",
    "y_spin = tensor(sigmay()/2, qeye(photon_levels), qeye(photon_levels))\n",
    "z_spin = tensor(jmat((spin_levels-1)/2, 'z'), qeye(photon_levels), qeye(photon_levels))\n",
    "\n",
    "# ------- Photon --------\n",
    "\n",
    "\n",
    "# ------- Detector -------\n",
    "d_damping_op = 1j*np.zeros((3,3)); d_damping_op[2,0] = 1; d_damping_op[2,1] = 1; d_damping_op = Qobj(d_damping_op)\n",
    "d_damping_op = tensor(qeye(spin_levels), qeye(photon_levels), d_damping_op)\n",
    "\n",
    "# ------ start state -----\n",
    "psi_0 = tensor(basis(spin_levels, 1), basis(photon_levels, 2), basis(photon_levels, 2))\n",
    "rho_0 = ket2dm(psi_0) \n",
    "rho_0 /= np.trace(rho_0)\n",
    "\n",
    "# ------ System Parameters ------\n",
    "B_x = 3.2\n",
    "coupling = 20\n",
    "\n",
    "H = coupling * z_ww * z_spin + B_x * x_spin\n",
    "#H *= hbar\n",
    "\n",
    "beta_n_ww = 0.0001\n",
    "beta_z_spin = 0.0001\n",
    "beta_y_d = 100\n",
    "gamma_in = 0.1\n",
    "gamma_out = 100\n",
    "spin_damping = 0.0\n",
    "d_damping = 95\n",
    "\n",
    "c_measure_strength = {\n",
    "    'gamma_in': gamma_in**0.5,\n",
    "    'gamma_out': gamma_out**0.5,\n",
    "    \n",
    "    'spin_x_damping': spin_damping**0.5,\n",
    "    'spin_y_damping': spin_damping**0.5,\n",
    "    'spin_z_damping': spin_damping**0.5,\n",
    "    \n",
    "    'd_damping': d_damping**0.5,\n",
    "}\n",
    "\n",
    "sc_measure_strength = {\n",
    "    #'n_ww': beta_n_ww,\n",
    "    #'z_spin': beta_z_spin,\n",
    "    'y_d': beta_y_d,\n",
    "}\n",
    "\n",
    "c_ops = {\n",
    "    'gamma_in': to_x_down_ww,\n",
    "    'gamma_out': transfer_op,\n",
    "    \n",
    "    'spin_x_damping': x_spin,\n",
    "    'spin_y_damping': y_spin,\n",
    "    'spin_z_damping': z_spin,\n",
    "    \n",
    "    'd_damping': d_damping_op,\n",
    "}\n",
    "\n",
    "sc_ops =  {\n",
    "    #'n_ww': n_ww,\n",
    "    #'z_spin': z_spin,\n",
    "    'y_d': y_d,\n",
    "}\n",
    "\n",
    "e_ops = {\n",
    "    'n_ww': 1 - n_ww,\n",
    "    'z_spin': z_spin,\n",
    "    'y_d': y_d,\n",
    "}\n",
    "\n",
    "system = System(H, rho_0, c_ops, sc_ops, e_ops, c_measure_strength, sc_measure_strength)"
   ],
   "metadata": {
    "collapsed": false,
    "ExecuteTime": {
     "end_time": "2024-02-02T09:49:41.672613Z",
     "start_time": "2024-02-02T09:49:41.664407Z"
    }
   },
   "id": "857267420773502b",
   "outputs": []
  },
  {
   "cell_type": "code",
   "execution_count": 4,
   "source": [
    "f_start = 0.3\n",
    "f_stop = 0.7\n",
    "n_points = 200\n",
    "fs = np.linspace(f_start, f_stop, n_points)\n",
    "\n",
    "measure_op = 'y_d'\n",
    "A = calc_super_A(sc_ops[measure_op].full())\n",
    "\n",
    "spec = system.calculate_spectrum(fs, order_in=[2], measure_op=measure_op, mathcal_a=A, bar=True)\n"
   ],
   "metadata": {
    "collapsed": false,
    "ExecuteTime": {
     "end_time": "2024-02-02T09:49:49.110349Z",
     "start_time": "2024-02-02T09:49:41.668417Z"
    }
   },
   "id": "82056452f52e9acf",
   "outputs": []
  },
  {
   "cell_type": "code",
   "execution_count": 5,
   "source": [
    "fig = system.plot()"
   ],
   "metadata": {
    "collapsed": false,
    "ExecuteTime": {
     "end_time": "2024-02-02T09:49:49.715981Z",
     "start_time": "2024-02-02T09:49:49.128854Z"
    }
   },
   "id": "4b9b590bbf2025d4",
   "outputs": []
  },
  {
   "cell_type": "code",
   "execution_count": null,
   "source": [],
   "metadata": {
    "collapsed": false
   },
   "id": "ee82e4fbb4440eed",
   "outputs": []
  }
 ],
 "metadata": {
  "kernelspec": {
   "display_name": "Python 3",
   "language": "python",
   "name": "python3"
  },
  "language_info": {
   "codemirror_mode": {
    "name": "ipython",
    "version": 2
   },
   "file_extension": ".py",
   "mimetype": "text/x-python",
   "name": "python",
   "nbconvert_exporter": "python",
   "pygments_lexer": "ipython2",
   "version": "2.7.6"
  }
 },
 "nbformat": 4,
 "nbformat_minor": 5
}
